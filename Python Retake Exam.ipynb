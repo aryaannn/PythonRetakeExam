{
 "cells": [
  {
   "cell_type": "code",
   "execution_count": 1,
   "id": "5c6936e7",
   "metadata": {},
   "outputs": [],
   "source": [
    "import pandas as pd"
   ]
  },
  {
   "cell_type": "code",
   "execution_count": 2,
   "id": "9543f6ae",
   "metadata": {},
   "outputs": [
    {
     "name": "stdout",
     "output_type": "stream",
     "text": [
      "   ID                      Name Sex   Age  Height  Weight            Team  \\\n",
      "0   1                 A Dijiang   M  24.0   180.0    80.0           China   \n",
      "1   2                  A Lamusi   M  23.0   170.0    60.0           China   \n",
      "2   3       Gunnar Nielsen Aaby   M  24.0     NaN     NaN         Denmark   \n",
      "3   4      Edgar Lindenau Aabye   M  34.0     NaN     NaN  Denmark/Sweden   \n",
      "4   5  Christine Jacoba Aaftink   F  21.0   185.0    82.0     Netherlands   \n",
      "\n",
      "   NOC        Games  Year  Season       City          Sport  \\\n",
      "0  CHN  1992 Summer  1992  Summer  Barcelona     Basketball   \n",
      "1  CHN  2012 Summer  2012  Summer     London           Judo   \n",
      "2  DEN  1920 Summer  1920  Summer  Antwerpen       Football   \n",
      "3  DEN  1900 Summer  1900  Summer      Paris     Tug-Of-War   \n",
      "4  NED  1988 Winter  1988  Winter    Calgary  Speed Skating   \n",
      "\n",
      "                              Event Medal  \n",
      "0       Basketball Men's Basketball   NaN  \n",
      "1      Judo Men's Extra-Lightweight   NaN  \n",
      "2           Football Men's Football   NaN  \n",
      "3       Tug-Of-War Men's Tug-Of-War  Gold  \n",
      "4  Speed Skating Women's 500 metres   NaN  \n"
     ]
    }
   ],
   "source": [
    "file = pd.read_csv('athlete_events.csv')\n",
    "print(file.head())"
   ]
  },
  {
   "cell_type": "code",
   "execution_count": 3,
   "id": "e1677579",
   "metadata": {},
   "outputs": [],
   "source": [
    "\n",
    "df = file[file.Year==2012]\n",
    "df = df[df.City=='London']"
   ]
  },
  {
   "cell_type": "markdown",
   "id": "667ccb14",
   "metadata": {},
   "source": [
    "How many total unique participants (use ID column) were present at the London 2012 Games?"
   ]
  },
  {
   "cell_type": "code",
   "execution_count": 4,
   "id": "1d08286e",
   "metadata": {},
   "outputs": [
    {
     "name": "stdout",
     "output_type": "stream",
     "text": [
      "10517\n"
     ]
    }
   ],
   "source": [
    "print(len(df['ID'].unique()))"
   ]
  },
  {
   "cell_type": "markdown",
   "id": "771f39a7",
   "metadata": {},
   "source": [
    "How many total unique males and total unique females participants were at the Beijing 2008 games?"
   ]
  },
  {
   "cell_type": "code",
   "execution_count": 5,
   "id": "7a105899",
   "metadata": {},
   "outputs": [
    {
     "name": "stdout",
     "output_type": "stream",
     "text": [
      "6290\n",
      "4609\n"
     ]
    }
   ],
   "source": [
    "df = file[file.Year==2008]\n",
    "df = df[df.City=='Beijing']\n",
    "male = df[df.Sex=='M']\n",
    "female = df[df.Sex=='F']\n",
    "print(len(male['ID'].unique()))\n",
    "print(len(female['ID'].unique()))"
   ]
  },
  {
   "cell_type": "code",
   "execution_count": 6,
   "id": "2337fe4f",
   "metadata": {},
   "outputs": [],
   "source": [
    "df = file.groupby('Name')"
   ]
  },
  {
   "cell_type": "markdown",
   "id": "e22d630d",
   "metadata": {},
   "source": [
    "Make a bar chart (blue color) that shows how many nations participated in each year of the Olympics\n"
   ]
  },
  {
   "cell_type": "code",
   "execution_count": 7,
   "id": "7d96969a",
   "metadata": {},
   "outputs": [],
   "source": [
    "import matplotlib.pyplot as plt\n"
   ]
  },
  {
   "cell_type": "code",
   "execution_count": null,
   "id": "1d695293",
   "metadata": {},
   "outputs": [
    {
     "data": {
      "text/plain": [
       "<BarContainer object of 271116 artists>"
      ]
     },
     "execution_count": 8,
     "metadata": {},
     "output_type": "execute_result"
    }
   ],
   "source": [
    "X = list(file['Year'])\n",
    "Y = list(file['City'])\n",
    "plt.bar(X, Y, color='g')"
   ]
  },
  {
   "cell_type": "code",
   "execution_count": null,
   "id": "f455c2ae-6994-4f87-b7b7-863c2ba95625",
   "metadata": {},
   "outputs": [],
   "source": [
    "df=pd.DataFrame(file,columns=[\"Year\",\"City\"])"
   ]
  },
  {
   "cell_type": "code",
   "execution_count": null,
   "id": "03209640-42d6-4508-80de-3efc9f115052",
   "metadata": {},
   "outputs": [],
   "source": [
    "df['points']=df['Year'].astype(float)\n"
   ]
  },
  {
   "cell_type": "code",
   "execution_count": null,
   "id": "e82c7f9e-9a96-4574-91d3-65c29d888313",
   "metadata": {},
   "outputs": [],
   "source": [
    "df.dtypes\n",
    "df.plot(x=\"Year\",y=\"City\")\n",
    "plt.show()\n"
   ]
  },
  {
   "cell_type": "code",
   "execution_count": null,
   "id": "897b653c-f734-4eca-ab16-f4d6c048dcef",
   "metadata": {},
   "outputs": [],
   "source": []
  }
 ],
 "metadata": {
  "kernelspec": {
   "display_name": "Python 3",
   "language": "python",
   "name": "python3"
  },
  "language_info": {
   "codemirror_mode": {
    "name": "ipython",
    "version": 3
   },
   "file_extension": ".py",
   "mimetype": "text/x-python",
   "name": "python",
   "nbconvert_exporter": "python",
   "pygments_lexer": "ipython3",
   "version": "3.8.8"
  }
 },
 "nbformat": 4,
 "nbformat_minor": 5
}
